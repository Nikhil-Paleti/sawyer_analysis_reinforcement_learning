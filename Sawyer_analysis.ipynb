{
 "cells": [
  {
   "cell_type": "code",
   "execution_count": 1,
   "metadata": {},
   "outputs": [],
   "source": [
    "import numpy as np\n",
    "import sympy as sym\n",
    "from scipy import linalg\n",
    "import pandas as pd\n",
    "import matplotlib.pyplot as plt\n",
    "\n",
    "# Import for Simulation\n",
    "import mujoco_py\n",
    "import glfw\n",
    "import time"
   ]
  },
  {
   "cell_type": "code",
   "execution_count": 2,
   "metadata": {},
   "outputs": [],
   "source": [
    "import warnings\n",
    "warnings.filterwarnings(\"ignore\", category=DeprecationWarning) "
   ]
  },
  {
   "cell_type": "code",
   "execution_count": 3,
   "metadata": {},
   "outputs": [],
   "source": [
    "class my_maths():\n",
    "    \n",
    "    def __init__(self) -> None:\n",
    "        pass\n",
    "    \n",
    "    def SE3(self, SO3):\n",
    "        temp = np.append(SO3, np.array([0,0,0]).reshape(1,-1), axis=0)\n",
    "        temp = np.append(temp, np.array([0,0,0,1]).reshape(-1,1), axis=1)\n",
    "        return temp\n",
    "\n",
    "    def translate(self, X):\n",
    "        \"\"\"X should be [x,y,z]\"\"\"\n",
    "        temp = np.identity(4)\n",
    "        temp[0, 3] = X[0]\n",
    "        temp[1, 3] = X[1]\n",
    "        temp[2, 3] = X[2]\n",
    "        return temp\n",
    "    \n",
    "    def Rx(self, theta):\n",
    "        temp = np.array([\n",
    "            [1, 0, 0],\n",
    "            [0, sym.cos(theta), -sym.sin(theta)],\n",
    "            [0, sym.sin(theta), sym.cos(theta)]\n",
    "        ])\n",
    "        return self.SE3(temp)\n",
    "\n",
    "    def Ry(self, theta):\n",
    "        temp = np.array([\n",
    "            [sym.cos(theta), 0, sym.sin(theta)],\n",
    "            [0, 1, 0],\n",
    "            [-sym.sin(theta), 0, sym.cos(theta)]\n",
    "        ])\n",
    "        return self.SE3(temp)\n",
    "\n",
    "    def Rz(self, theta):\n",
    "        temp = np.array([\n",
    "            [sym.cos(theta), -sym.sin(theta), 0],\n",
    "            [sym.sin(theta), sym.cos(theta), 0],\n",
    "            [0, 0, 1]\n",
    "        ])\n",
    "        return self.SE3(temp)"
   ]
  },
  {
   "cell_type": "code",
   "execution_count": 4,
   "metadata": {},
   "outputs": [],
   "source": [
    "class DHRevolute(my_maths):\n",
    "    def __init__(self, a=0, d=0, alpha=0):\n",
    "        self.a = a\n",
    "        self.d = d\n",
    "        self.alpha = alpha\n",
    "\n",
    "    def T(self, theta):\n",
    "        return self.Rz(theta) @ self.translate([0,0,self.d]) @ self.translate([self.a,0,0]) @ self.Rx(self.alpha)"
   ]
  },
  {
   "cell_type": "code",
   "execution_count": 5,
   "metadata": {},
   "outputs": [],
   "source": [
    "class robot(my_maths):\n",
    "\n",
    "    def __init__(self, links, name, simulation=False, model_path=\"\"):\n",
    "        self.links = links\n",
    "        self.name = name        \n",
    "        self.simulation = simulation \n",
    "        \n",
    "        if simulation:\n",
    "            self.model_path = model_path\n",
    "            self.setup_simulation()\n",
    "            \n",
    "    def setup_simulation(self):\n",
    "        self.simulation = True\n",
    "        model = mujoco_py.load_model_from_path(self.model_path)\n",
    "        self.sim = mujoco_py.MjSim(model)\n",
    "        self.current_angles = self.sim.data.ctrl[:]\n",
    "        self.viewer = mujoco_py.MjViewer(self.sim)\n",
    "        self.viewer.render()\n",
    "\n",
    "    def reset_sim(self):\n",
    "        glfw.destroy_window(self.viewer.window)\n",
    "        self.setup_simulation()\n",
    "    \n",
    "    def close_sim(self):\n",
    "        glfw.destroy_window(self.viewer.window)\n",
    "        self.simulation = False\n",
    "    \n",
    "    def play(self, thetas, sim_horizon=1000, sleep_time=0.001):\n",
    "        \n",
    "        if len(thetas) == 7:\n",
    "            thetas = np.append(thetas, np.array([0,0]))\n",
    "            \n",
    "        dt = (thetas - self.current_angles)/sim_horizon\n",
    "        for i in range(sim_horizon):\n",
    "            self.current_angles = self.current_angles + dt\n",
    "            self.sim.data.ctrl[:] = self.current_angles\n",
    "            self.sim.step()\n",
    "            self.viewer.render()\n",
    "            time.sleep(sleep_time)\n",
    "        ## final steps\n",
    "        for i in range(500):\n",
    "            self.sim.step()\n",
    "            self.viewer.render()\n",
    "    \n",
    "    def base_position(self):\n",
    "        self.play(np.zeros(7))\n",
    "        \n",
    "    def fkine(self, thetas, sim=False):\n",
    "        \n",
    "        if len(thetas) < len(self.links):\n",
    "            return f\"Please give {len(self.links)} theta values\"\n",
    "        \n",
    "        T = np.identity(4)\n",
    "        for i, link in enumerate(self.links):\n",
    "            T = T @ link.T(thetas[i])\n",
    "        \n",
    "        if self.simulation and sim:\n",
    "            self.play(thetas)\n",
    "            \n",
    "        try:\n",
    "            return T.astype(np.float16)\n",
    "        except TypeError:\n",
    "            return T\n",
    "\n",
    "    def setup_inverse(self):\n",
    "        theta_1 = sym.Symbol(\"theta_1\")\n",
    "        theta_2 = sym.Symbol(\"theta_2\")\n",
    "        theta_3 = sym.Symbol(\"theta_3\")\n",
    "        theta_4 = sym.Symbol(\"theta_4\")\n",
    "        theta_5 = sym.Symbol(\"theta_5\")\n",
    "        theta_6 = sym.Symbol(\"theta_6\")\n",
    "        theta_7 = sym.Symbol(\"theta_7\")\n",
    "\n",
    "        thetas = [theta_1, theta_2, theta_3, theta_4, theta_5, theta_6, theta_7]\n",
    "        T_sym = self.fkine(thetas, False)\n",
    "\n",
    "\n",
    "        F_sym = sym.Matrix([T_sym[0,0], T_sym[0,1], T_sym[0,2], T_sym[0,3], \\\n",
    "                        T_sym[1,0], T_sym[1,1], T_sym[1,2], T_sym[1,3], \\\n",
    "                        T_sym[2,0], T_sym[2,1], T_sym[2,2], T_sym[2,3],   ])\n",
    "\n",
    "        J_sym = F_sym.jacobian(sym.Matrix([theta_1, theta_2, theta_3, theta_4, theta_5, theta_6, theta_7]))\n",
    "\n",
    "        self.F_symnp = sym.lambdify([theta_1, theta_2, theta_3, theta_4, theta_5, theta_6, theta_7], F_sym, \"numpy\")\n",
    "        self.J_symnp = sym.lambdify([theta_1, theta_2, theta_3, theta_4, theta_5, theta_6, theta_7], J_sym, \"numpy\")\n",
    "                 \n",
    "        \n",
    "    def netwons_inverse(self, Tdest, verbose=False):             \n",
    "        \n",
    "        theta_init=2.0*np.random.rand(7, ).reshape(-1,1)*np.pi - np.pi\n",
    "        \n",
    "        df = pd.DataFrame(columns=['Theta1', 'Theta2', 'Theta3', 'Theta4', 'Theta5', 'Theta6', \"Theta7\"])\n",
    "        df.loc[0] = [theta_init[0]] + [theta_init[1]] + [theta_init[2]] + [theta_init[3]] + [theta_init[4]] + [theta_init[5]] + [theta_init[6]]\n",
    "\n",
    "        A = Tdest[:-1,:]\n",
    "        A = A.reshape(-1,1)\n",
    "\n",
    "        i = 0\n",
    "        while i < 1000:\n",
    "            \n",
    "            temp1 = self.F_symnp(theta_init[0], theta_init[1],theta_init[2],theta_init[3],theta_init[4],theta_init[5],theta_init[6]).reshape(-1,1) - A\n",
    "            temp1_5 = self.J_symnp(theta_init[0][0], theta_init[1][0],theta_init[2][0],theta_init[3][0],theta_init[4][0],theta_init[5][0], theta_init[6][0])\n",
    "            temp2 = np.linalg.pinv(temp1_5)\n",
    "\n",
    "            temp3 = np.matmul(temp2,temp1)  \n",
    "\n",
    "            theta_init = theta_init - temp3\n",
    "            for k in range(0,7):\n",
    "                while abs(theta_init[k]) > np.pi:\n",
    "                    theta_init[k] -= abs(theta_init[k])/theta_init[k]*np.pi\n",
    "\n",
    "            df.loc[i+1] = [theta_init[0]] + [theta_init[1]] + [theta_init[2]] + [theta_init[3]] + [theta_init[4]] + [theta_init[5]] + [theta_init[6]]\n",
    "            \n",
    "            f = np.zeros(12)\n",
    "            T = self.fkine(theta_init.ravel(), False)\n",
    "            f[0] = (T[0][3]-Tdest[0][3])\n",
    "            f[1] = (T[1][3]-Tdest[1][3])\n",
    "            f[2] = (T[2][3]-Tdest[2][3])\n",
    "            f[3] = (T[1][2]-Tdest[1][2])\n",
    "            f[4] = (T[2][2]-Tdest[2][2])\n",
    "            f[5] = (T[2][1]-Tdest[2][1])\n",
    "            f[6] = (T[0][0]-Tdest[0][0])\n",
    "            f[7] = (T[0][1]-Tdest[0][1])\n",
    "            f[8] = (T[0][2]-Tdest[0][2])\n",
    "            f[9] = (T[1][0]-Tdest[1][0])\n",
    "            f[10] = (T[1][1]-Tdest[1][1])\n",
    "            f[11] = (T[2][0]-Tdest[2][0])\n",
    "\n",
    "            sum = 0.0\n",
    "            for k in range(0,2*6):\n",
    "                sum += pow(f[k],2.0)\n",
    "            if sum < 0.0000000001:\n",
    "                if verbose:\n",
    "                    print(f\"Converged\")\n",
    "                    print(f\"Iteration ended in {i+1} iterations.\") \n",
    "                    print(df)\n",
    "                    print(f\"Solution Theta Values = {theta_init.T*180/np.pi}\")\n",
    "                return theta_init.squeeze()\n",
    "            i += 1\n",
    "\n",
    "        if i >= 1000 and verbose:\n",
    "            print(\"No solution found\")\n",
    "        elif i >= 1000:\n",
    "            return \n",
    "\n",
    "    def jacob0(self, thetas):\n",
    "\n",
    "        jacob_final = np.empty(shape= (6, 7))\n",
    "        \n",
    "        # T07 rotation matrix\n",
    "        Rotation = self.fkine([thetas[0],thetas[1],thetas[2],thetas[3],thetas[4],thetas[5],thetas[6]])[:-1, :-1]\n",
    "\n",
    "        # 12 rows, 7 columns jacobian\n",
    "        jacobian_full = self.J_symnp(thetas[0],thetas[1],thetas[2],thetas[3],thetas[4],thetas[5],thetas[6])\n",
    "\n",
    "        for i in range(7):\n",
    "            jacob = jacobian_full[:,i].reshape(3,-1)\n",
    "            skew_symmetric_matrix = jacob[:, :-1] @ Rotation.T\n",
    "\n",
    "            jacob_final[0,i] = jacob[0, -1]\n",
    "            jacob_final[1,i] = jacob[1, -1]\n",
    "            jacob_final[2,i] = jacob[2, -1]\n",
    "\n",
    "            jacob_final[3,i] = skew_symmetric_matrix[-1, 1]\n",
    "            jacob_final[4,i] = skew_symmetric_matrix[0, -1]\n",
    "            jacob_final[5,i] = skew_symmetric_matrix[1, 0]\n",
    "\n",
    "        return jacob_final\n",
    "\n",
    "    def joint_rates(self, thetas, end_effector_velocities):\n",
    "        jacob0 = self.jacob0(thetas)\n",
    "        xd = np.array(end_effector_velocities).reshape(-1,1)\n",
    "        rates = np.linalg.pinv(jacob0) @ xd\n",
    "        return rates.squeeze()\n",
    "\n",
    "    def null_space_rates(self, thetas, joint_velocity):\n",
    "        jacob0 = self.jacob0(thetas)\n",
    "        joint_velocity = np.array(joint_velocity).reshape(-1,1)\n",
    "        N = linalg.null_space(jacob0)\n",
    "        return N @ np.linalg.pinv(N) @ joint_velocity \n",
    "\n",
    "    def manipulability(self, thetas):\n",
    "        j0 = self.jacob0(thetas)\n",
    "        return np.sqrt(np.linalg.det(j0 @ j0.T))"
   ]
  },
  {
   "cell_type": "markdown",
   "metadata": {},
   "source": [
    "# Creating the robot"
   ]
  },
  {
   "cell_type": "code",
   "execution_count": 6,
   "metadata": {},
   "outputs": [],
   "source": [
    "my_links = [\n",
    "    DHRevolute(d=0.237,a=0.081,alpha=-np.pi/2),\n",
    "    DHRevolute(d=0.1925,a=0,alpha=-np.pi/2),\n",
    "    DHRevolute(d=0.4,a=0,alpha=-np.pi/2),\n",
    "    DHRevolute(d=-0.1685,a=0,alpha=-np.pi/2),\n",
    "    DHRevolute(d=0.4, a=0,alpha=-np.pi/2),\n",
    "    DHRevolute(d=0.1363, a=0,alpha=-np.pi/2),\n",
    "    DHRevolute(d=0.11, a=8.08e-7,alpha=0),\n",
    "]"
   ]
  },
  {
   "cell_type": "code",
   "execution_count": 7,
   "metadata": {},
   "outputs": [
    {
     "name": "stdout",
     "output_type": "stream",
     "text": [
      "Creating window glfw\n"
     ]
    }
   ],
   "source": [
    "model = \"sawyer_sim/sawyer.xml\"\n",
    "\n",
    "sawyer_robo = robot(my_links, \"sawyer\", True, model)"
   ]
  },
  {
   "cell_type": "markdown",
   "metadata": {},
   "source": [
    "# Forward Kinematics"
   ]
  },
  {
   "cell_type": "code",
   "execution_count": 8,
   "metadata": {},
   "outputs": [
    {
     "data": {
      "text/plain": [
       "array([[-0.707  ,  0.707  ,  0.     ,  0.8555 ],\n",
       "       [ 0.707  ,  0.707  , -0.     , -0.01753],\n",
       "       [-0.     , -0.     , -1.     ,  0.2954 ],\n",
       "       [ 0.     ,  0.     ,  0.     ,  1.     ]], dtype=float16)"
      ]
     },
     "execution_count": 8,
     "metadata": {},
     "output_type": "execute_result"
    }
   ],
   "source": [
    "arr = sawyer_robo.fkine(np.array([-np.pi/4, -np.pi/2,np.pi/2, np.pi/2, np.pi/2, np.pi/2, np.pi/2]), True)\n",
    "arr"
   ]
  },
  {
   "cell_type": "code",
   "execution_count": 9,
   "metadata": {},
   "outputs": [
    {
     "data": {
      "text/plain": [
       "array([ 0.85546875,  1.39653015, -0.70458984,  1.        ])"
      ]
     },
     "execution_count": 9,
     "metadata": {},
     "output_type": "execute_result"
    }
   ],
   "source": [
    "x = 1\n",
    "y = 1\n",
    "z = 1\n",
    "\n",
    "vector_from_end_effector = np.array([x,y,z,1])\n",
    "\n",
    "world = arr @ vector_from_end_effector\n",
    "world"
   ]
  },
  {
   "cell_type": "code",
   "execution_count": 10,
   "metadata": {},
   "outputs": [],
   "source": [
    "sawyer_robo.base_position()"
   ]
  },
  {
   "cell_type": "markdown",
   "metadata": {},
   "source": [
    "Change joint 0"
   ]
  },
  {
   "cell_type": "code",
   "execution_count": 38,
   "metadata": {},
   "outputs": [],
   "source": [
    "# sawyer_robo.fkine([np.pi/2, 0, 0, 0, 0, 0, 0], True)\n",
    "# sawyer_robo.fkine([0, 0, 0, 0, 0, 0, 0], True);"
   ]
  },
  {
   "cell_type": "markdown",
   "metadata": {},
   "source": [
    "Change joint 1"
   ]
  },
  {
   "cell_type": "code",
   "execution_count": 12,
   "metadata": {},
   "outputs": [],
   "source": [
    "# sawyer_robo.fkine([0, np.pi/2, 0, 0, 0, 0, 0], True)\n",
    "# sawyer_robo.fkine([0, 0, 0, 0, 0, 0, 0], True);"
   ]
  },
  {
   "cell_type": "markdown",
   "metadata": {},
   "source": [
    "Change joint 2"
   ]
  },
  {
   "cell_type": "code",
   "execution_count": 13,
   "metadata": {},
   "outputs": [],
   "source": [
    "# sawyer_robo.fkine([0, 0, np.pi/2, 0, 0, 0, 0], True)\n",
    "# sawyer_robo.fkine([0, 0, 0, 0, 0, 0, 0], True);"
   ]
  },
  {
   "cell_type": "markdown",
   "metadata": {},
   "source": [
    "Change joint 3"
   ]
  },
  {
   "cell_type": "code",
   "execution_count": 14,
   "metadata": {},
   "outputs": [],
   "source": [
    "# sawyer_robo.fkine([0, 0, 0, np.pi/2, 0, 0, 0], True)\n",
    "# sawyer_robo.fkine([0, 0, 0, 0, 0, 0, 0], True);"
   ]
  },
  {
   "cell_type": "markdown",
   "metadata": {},
   "source": [
    "Change joint 4"
   ]
  },
  {
   "cell_type": "code",
   "execution_count": 15,
   "metadata": {},
   "outputs": [],
   "source": [
    "# sawyer_robo.fkine([0, 0, 0, 0, np.pi/2, 0, 0], True)\n",
    "# sawyer_robo.fkine([0, 0, 0, 0, 0, 0, 0], True);"
   ]
  },
  {
   "cell_type": "markdown",
   "metadata": {},
   "source": [
    "Change joint 5"
   ]
  },
  {
   "cell_type": "code",
   "execution_count": 16,
   "metadata": {},
   "outputs": [],
   "source": [
    "# sawyer_robo.fkine([0, 0, 0, 0, 0, np.pi/2, 0], True)\n",
    "# sawyer_robo.fkine([0, 0, 0, 0, 0, 0, 0], True);"
   ]
  },
  {
   "cell_type": "markdown",
   "metadata": {},
   "source": [
    "Change joint 6"
   ]
  },
  {
   "cell_type": "code",
   "execution_count": 17,
   "metadata": {},
   "outputs": [],
   "source": [
    "# sawyer_robo.fkine([0, 0, 0, 0, 0, 0, np.pi/2], True)\n",
    "# sawyer_robo.fkine([0, 0, 0, 0, 0, 0, 0], True);"
   ]
  },
  {
   "cell_type": "code",
   "execution_count": 18,
   "metadata": {},
   "outputs": [],
   "source": [
    "# sawyer_robo.close_sim()"
   ]
  },
  {
   "cell_type": "code",
   "execution_count": 19,
   "metadata": {},
   "outputs": [],
   "source": [
    "# sawyer_robo.reset_sim()"
   ]
  },
  {
   "cell_type": "code",
   "execution_count": 20,
   "metadata": {},
   "outputs": [
    {
     "data": {
      "text/plain": [
       "array([-6.57785458e-15, -1.31557092e-14,  1.31557092e-14,  1.31557092e-14,\n",
       "        1.31557092e-14,  1.31557092e-14,  1.31557092e-14,  0.00000000e+00,\n",
       "        0.00000000e+00])"
      ]
     },
     "execution_count": 20,
     "metadata": {},
     "output_type": "execute_result"
    }
   ],
   "source": [
    "sawyer_robo.current_angles"
   ]
  },
  {
   "cell_type": "markdown",
   "metadata": {},
   "source": [
    "# Inverse Kinematics\n",
    "\n",
    "### Newtons Method"
   ]
  },
  {
   "cell_type": "code",
   "execution_count": 21,
   "metadata": {},
   "outputs": [],
   "source": [
    "sawyer_robo.setup_inverse()"
   ]
  },
  {
   "cell_type": "code",
   "execution_count": 22,
   "metadata": {},
   "outputs": [],
   "source": [
    "angles = np.array([np.pi/2, -np.pi/4, np.pi/4, -np.pi/8, -np.pi/8, np.pi/4, -np.pi/4])"
   ]
  },
  {
   "cell_type": "code",
   "execution_count": 23,
   "metadata": {},
   "outputs": [
    {
     "data": {
      "text/plain": [
       "array([[ 0.01662,  0.587  , -0.8096 , -0.3474 ],\n",
       "       [ 0.9985 , -0.05118, -0.01662,  0.3625 ],\n",
       "       [-0.05118, -0.808  , -0.587  ,  0.3845 ],\n",
       "       [ 0.     ,  0.     ,  0.     ,  1.     ]], dtype=float16)"
      ]
     },
     "execution_count": 23,
     "metadata": {},
     "output_type": "execute_result"
    }
   ],
   "source": [
    "Tdest = sawyer_robo.fkine(angles)\n",
    "Tdest"
   ]
  },
  {
   "cell_type": "code",
   "execution_count": 24,
   "metadata": {},
   "outputs": [
    {
     "data": {
      "text/plain": [
       "array([ 1.05964427, -1.14636082,  0.4976794 , -0.18045638, -0.2811583 ,\n",
       "        1.53021589, -0.64297665])"
      ]
     },
     "execution_count": 24,
     "metadata": {},
     "output_type": "execute_result"
    }
   ],
   "source": [
    "inverse_angles = sawyer_robo.netwons_inverse(Tdest)\n",
    "inverse_angles"
   ]
  },
  {
   "cell_type": "code",
   "execution_count": 25,
   "metadata": {},
   "outputs": [
    {
     "data": {
      "text/plain": [
       "array([[ 0.01662,  0.587  , -0.8096 , -0.3474 ],\n",
       "       [ 0.9985 , -0.05118, -0.01662,  0.3625 ],\n",
       "       [-0.05118, -0.808  , -0.587  ,  0.3845 ],\n",
       "       [ 0.     ,  0.     ,  0.     ,  1.     ]], dtype=float16)"
      ]
     },
     "execution_count": 25,
     "metadata": {},
     "output_type": "execute_result"
    }
   ],
   "source": [
    "sawyer_robo.fkine(inverse_angles)"
   ]
  },
  {
   "cell_type": "markdown",
   "metadata": {},
   "source": [
    "# Manipulator Jacobian"
   ]
  },
  {
   "cell_type": "code",
   "execution_count": 39,
   "metadata": {},
   "outputs": [
    {
     "data": {
      "text/plain": [
       "array([[-3.62661495e-01, -8.20670215e-18,  3.03559084e-01,\n",
       "        -2.15829904e-01, -8.77795659e-02, -4.69458990e-02,\n",
       "         4.74247331e-07],\n",
       "       [-3.47416139e-01,  1.47635878e-01,  1.09542253e-01,\n",
       "        -2.26936261e-01, -1.23899810e-01, -7.36884712e-02,\n",
       "        -4.13507520e-08],\n",
       "       [ 0.00000000e+00, -2.81661495e-01,  1.09542253e-01,\n",
       "        -7.82933165e-02, -3.96404811e-02,  6.68288245e-02,\n",
       "        -6.52873329e-07],\n",
       "       [ 0.00000000e+00, -9.99983881e-01, -1.09708213e-06,\n",
       "         7.07096159e-01,  2.70594405e-01, -4.03276134e-01,\n",
       "        -8.09447054e-01],\n",
       "       [-3.07622034e-06,  6.12358788e-17,  7.07151998e-01,\n",
       "        -5.00028897e-01, -4.61970483e-01,  7.42313388e-01,\n",
       "        -1.66128301e-02],\n",
       "       [ 1.00007416e+00,  8.52771852e-05, -7.07159218e-01,\n",
       "        -5.00097378e-01,  8.44662757e-01,  5.35237148e-01,\n",
       "        -5.86914263e-01]])"
      ]
     },
     "execution_count": 39,
     "metadata": {},
     "output_type": "execute_result"
    }
   ],
   "source": [
    "angles = np.array([np.pi/2, -np.pi/4, np.pi/4, -np.pi/8, -np.pi/8, np.pi/4, -np.pi/4])\n",
    "jacob0 = sawyer_robo.jacob0(angles)\n",
    "jacob0"
   ]
  },
  {
   "cell_type": "code",
   "execution_count": 40,
   "metadata": {},
   "outputs": [
    {
     "data": {
      "text/plain": [
       "(6, 7)"
      ]
     },
     "execution_count": 40,
     "metadata": {},
     "output_type": "execute_result"
    }
   ],
   "source": [
    "jacob0.shape"
   ]
  },
  {
   "cell_type": "markdown",
   "metadata": {},
   "source": [
    "Now consider that we want the end-effector to move at $0.2 \\frac{m}{s}$ in the $x$, $y$ and $z$ directions.  "
   ]
  },
  {
   "cell_type": "code",
   "execution_count": 41,
   "metadata": {},
   "outputs": [
    {
     "data": {
      "text/plain": [
       "array([-0.3888681 , -0.68812759, -0.45417442, -0.81155528, -0.14131349,\n",
       "       -0.19765005,  0.19240083])"
      ]
     },
     "execution_count": 41,
     "metadata": {},
     "output_type": "execute_result"
    }
   ],
   "source": [
    "end_effector_velocities = [0.2,0.2,0.2,0,0,0]\n",
    "\n",
    "sawyer_robo.joint_rates(angles, end_effector_velocities)"
   ]
  },
  {
   "cell_type": "markdown",
   "metadata": {},
   "source": [
    "# Manipulability"
   ]
  },
  {
   "cell_type": "code",
   "execution_count": 42,
   "metadata": {},
   "outputs": [
    {
     "data": {
      "text/plain": [
       "0.027659711185380905"
      ]
     },
     "execution_count": 42,
     "metadata": {},
     "output_type": "execute_result"
    }
   ],
   "source": [
    "sawyer_robo.play(angles)\n",
    "\n",
    "sawyer_robo.manipulability(angles)"
   ]
  },
  {
   "cell_type": "markdown",
   "metadata": {},
   "source": [
    "# Null space motion"
   ]
  },
  {
   "cell_type": "code",
   "execution_count": 30,
   "metadata": {},
   "outputs": [],
   "source": [
    "angles = np.array([0, np.pi/3, 0, 0, 0, -np.pi/2, 0])"
   ]
  },
  {
   "cell_type": "code",
   "execution_count": 31,
   "metadata": {
    "tags": []
   },
   "outputs": [
    {
     "data": {
      "text/plain": [
       "array([[ 0.866 , -0.    ,  0.5   ,  0.136 ],\n",
       "       [-0.    , -1.    ,  0.    ,  0.4973],\n",
       "       [ 0.5   , -0.    , -0.866 ,  0.1417],\n",
       "       [ 0.    ,  0.    ,  0.    ,  1.    ]], dtype=float16)"
      ]
     },
     "execution_count": 31,
     "metadata": {},
     "output_type": "execute_result"
    }
   ],
   "source": [
    "sawyer_robo.fkine(angles)"
   ]
  },
  {
   "cell_type": "markdown",
   "metadata": {},
   "source": [
    "Rotate joint 1 at -0.1 rad/s without changing end effector pose "
   ]
  },
  {
   "cell_type": "code",
   "execution_count": 32,
   "metadata": {
    "tags": []
   },
   "outputs": [
    {
     "data": {
      "text/plain": [
       "array([-2.28968257e-05,  2.94770347e-01, -1.04742118e-02, -4.39058411e-03,\n",
       "       -1.04206602e-02, -8.22759638e-01,  1.25463277e-05])"
      ]
     },
     "execution_count": 32,
     "metadata": {},
     "output_type": "execute_result"
    }
   ],
   "source": [
    "for i in range(15):\n",
    "    joint_velocity = [0,-0.1,0,0,0,0,0]\n",
    "    null_space_rates = sawyer_robo.null_space_rates(angles, joint_velocity)\n",
    "    angles = angles + null_space_rates.squeeze()\n",
    "    \n",
    "angles"
   ]
  },
  {
   "cell_type": "code",
   "execution_count": 33,
   "metadata": {},
   "outputs": [
    {
     "data": {
      "text/plain": [
       "array([[ 8.662e-01,  3.088e-05,  5.000e-01,  1.360e-01],\n",
       "       [ 3.767e-05, -1.000e+00, -3.576e-06,  4.973e-01],\n",
       "       [ 5.000e-01,  2.193e-05, -8.662e-01,  1.417e-01],\n",
       "       [ 0.000e+00,  0.000e+00,  0.000e+00,  1.000e+00]], dtype=float16)"
      ]
     },
     "execution_count": 33,
     "metadata": {},
     "output_type": "execute_result"
    }
   ],
   "source": [
    "sawyer_robo.fkine(angles)"
   ]
  },
  {
   "cell_type": "markdown",
   "metadata": {},
   "source": [
    "# Trajectory"
   ]
  },
  {
   "cell_type": "markdown",
   "metadata": {},
   "source": [
    "#  polynomial function of time.\n",
    "\n",
    "quintic (fifth-order) polynomial\n",
    "\n",
    "$s(t) = At^5 + Bt^4 + Ct^3 + Dt^2 + E^t + F$  \n",
    "$v(t) = 5*At^4 + 4Bt^3 + 3ct^2 + 2D + E$  \n",
    "$a(t) = 20At^3 + 12Bt^2 + 6Ct + 2D$  "
   ]
  },
  {
   "cell_type": "markdown",
   "metadata": {},
   "source": [
    "$$\n",
    "\\left(\\begin{matrix}\n",
    "s_0\\\\\n",
    "s_T\\\\\n",
    "\\dot{s_0}\\\\\n",
    "\\dot{s_T}\\\\\n",
    "\\ddot{s_0}\\\\\n",
    "\\ddot{s_T}\\\\\n",
    "\\end{matrix}\\right)=\n",
    "\\left(\\begin{matrix}\n",
    "0 & 0 & 0 & 0 & 0 & 1\\\\\n",
    "T^5 & T^4 & T^3 & T^2 & T & 1\\\\\n",
    "0 & 0 & 0 & 0 & 1 & 0\\\\\n",
    "5T^4 & 4T^3 & 3T^2 & 2T & 1 & 0\\\\\n",
    "0 & 0 & 0 & 2 & 0 & 0\\\\\n",
    "20T^3 & 12T^2 & 6T & 2 & 0 & 0\\\\\n",
    "\\end{matrix}\\right)\n",
    "\\left(\\begin{matrix}\n",
    "A\\\\\n",
    "B\\\\\n",
    "C\\\\\n",
    "D\\\\\n",
    "E\\\\\n",
    "F\\\\\n",
    "\\end{matrix}\\right)\n",
    "$$"
   ]
  },
  {
   "cell_type": "code",
   "execution_count": 34,
   "metadata": {},
   "outputs": [],
   "source": [
    "def parabolic_trajectory(boundary, T, step=0.1, plot=False):\n",
    "    \"\"\"\n",
    "    s,v,a [initial, final ...]\n",
    "    T = time\n",
    "    \"\"\"\n",
    "    b = np.array(boundary)\n",
    "    A = np.array([\n",
    "        [0,0,0,0,0,1],\n",
    "        [T**5, T**4, T**3, T**2, T, 1],\n",
    "        [0,0,0,0,1,0],\n",
    "        [5*T**4, 4*T**3, 3*T**2, 2*T, 1, 0],\n",
    "        [0,0,0,2,0,0],\n",
    "        [20*T**3, 12*T**2, 6*T, 2, 0, 0] \n",
    "    ])\n",
    "\n",
    "    A,B,C,D,E,F = np.linalg.solve(A,b)\n",
    "    \n",
    "    t = np.arange(0, T, step=step)\n",
    "    t2 = np.power(t, 2)\n",
    "    t3 = np.power(t, 3)\n",
    "    t4 = np.power(t, 4)\n",
    "    t5 = np.power(t, 5)\n",
    "\n",
    "    s = A*t5 + B*t4 + C*t3 + D*t2 + E*t + F\n",
    "    v = 5*A*t4 + 4*B*t3 + 3*C*t2 + 2*D*t + E\n",
    "    a = 20*A*t3 + 12*B*t2 + 6*C*t + 2*D \n",
    "\n",
    "    if plot:\n",
    "        fig,ax = plt.subplots(figsize=(15,10))\n",
    "        ax.plot(t, s, label=\"position\")\n",
    "        ax.plot(t, v, label=\"velocity\")\n",
    "        ax.plot(t, a, label=\"acceleration\")\n",
    "        ax.set_title(\"Quintic poltnomial trajectory\")\n",
    "        ax.set_xlabel(\"time\")\n",
    "        ax.set_ylabel(\"s, s', s''\")\n",
    "        ax.legend()\n",
    "        \n",
    "    return s,v,a"
   ]
  },
  {
   "cell_type": "code",
   "execution_count": 35,
   "metadata": {},
   "outputs": [
    {
     "data": {
      "image/png": "[encoded data removed]",
      "text/plain": [
       "<Figure size 1080x720 with 1 Axes>"
      ]
     },
     "metadata": {
      "needs_background": "light"
     },
     "output_type": "display_data"
    }
   ],
   "source": [
    "initial_pos = 0\n",
    "final_pos = 1\n",
    "initial_vel = 0\n",
    "final_vel = 0\n",
    "initial_acc = 0\n",
    "final_acc = 0\n",
    "\n",
    "s,v,a = parabolic_trajectory([initial_pos,final_pos,initial_vel,final_vel,initial_acc,final_acc], T = 10, plot=True)"
   ]
  },
  {
   "cell_type": "markdown",
   "metadata": {},
   "source": [
    "### Linear segment with parabolic blend (LSPB) trajectory"
   ]
  },
  {
   "cell_type": "code",
   "execution_count": 36,
   "metadata": {},
   "outputs": [],
   "source": [
    "def lspb(config, step=0.1, plot=False):\n",
    "    \"\"\"\n",
    "    config = [t0, q0, tf, qf, V]\n",
    "    \"\"\"\n",
    "    t0 = config[0]\n",
    "    q0 = config[1]\n",
    "    tf = config[2]\n",
    "    qf = config[3]\n",
    "    V = config[4]\n",
    "    \n",
    "    lower_boundary = (qf-q0)/tf\n",
    "    upper_boundary = 2*lower_boundary\n",
    "    if not lower_boundary < V and not V <= upper_boundary:\n",
    "        print(f\"V should be {lower_boundary} < V <= {upper_boundary}\")\n",
    "        return\n",
    "    \n",
    "    tb = (q0 - qf + V*tf)/V\n",
    "    a0 = q0 \n",
    "    a1 = 0\n",
    "    a2 = V/(2*tb)\n",
    "\n",
    "    b0 = qf - (V*tf**2)/(2*tb)\n",
    "    b1 = V*tf/tb\n",
    "    b2 = -V/(2*tb);\n",
    "\n",
    "    t = np.arange(t0,tf,step=step)\n",
    "    t2 = t**2\n",
    "    \n",
    "    first_ = t <= tb\n",
    "    second_ = (t>tb) * (t < (tf-tb))\n",
    "    third_ = t > (tf-tb)\n",
    "\n",
    "    q1 = (a0 + a1*t + a2*t2) * first_ \n",
    "    q2 = ((qf + q0 - V*tf)/2 + V*t) * second_ \n",
    "    q3 = (b0 + b1*t + b2*t2) * third_;\n",
    "    q = q1+q2+q3 \n",
    "\n",
    "    qdot1 = (a1 + 2*a2*t) * first_ \n",
    "    qdot2 = V * second_\n",
    "    qdot3 = (b1 + 2*b2*t) * third_\n",
    "    qdot = qdot1 + qdot2 + qdot3\n",
    "\n",
    "    qddot1 = 2*a2*first_\n",
    "    qddot2 = 0 * second_\n",
    "    qddot3 = 2*b2 * third_\n",
    "    qddot = qddot1 + qddot2 + qddot3 \n",
    "\n",
    "    if plot:\n",
    "        fig, ax = plt.subplots(3,1, figsize=(15,10))\n",
    "        fig.suptitle(\"LSPB\", fontsize = 25)\n",
    "\n",
    "        ax[0].plot(t, q, label=\"position\")\n",
    "        ax[0].grid(True)\n",
    "        ax[0].set_xlabel(\"Time\")\n",
    "        ax[0].set_ylabel(\"s\")\n",
    "        ax[0].legend()\n",
    "\n",
    "        ax[1].plot(t, qdot, color = \"orange\", label=\"velocity\")\n",
    "        ax[1].grid(True)\n",
    "        ax[1].set_xlabel(\"Time\")\n",
    "        ax[1].set_ylabel(\"ds/dt\")\n",
    "        ax[1].legend()\n",
    "\n",
    "        ax[2].plot(t, qddot, \"g\", label = \"acceleration\")\n",
    "        ax[2].grid(True)\n",
    "        ax[2].set_xlabel(\"Time\")\n",
    "        ax[2].set_ylabel(\"ds^2/dt^2\")\n",
    "        ax[2].legend()\n",
    "\n",
    "    return q, qdot, qddot"
   ]
  },
  {
   "cell_type": "code",
   "execution_count": 37,
   "metadata": {},
   "outputs": [
    {
     "data": {
      "image/png": "[encoded data removed]",
      "text/plain": [
       "<Figure size 1080x720 with 3 Axes>"
      ]
     },
     "metadata": {
      "needs_background": "light"
     },
     "output_type": "display_data"
    }
   ],
   "source": [
    "initial_time = 0\n",
    "initial_position = 0\n",
    "final_time = 50\n",
    "final_position = 1\n",
    "max_omega = 0.03\n",
    "\n",
    "s, v, a = lspb([initial_time, initial_position, final_time, final_position, max_omega], plot = True)"
   ]
  }
 ],
 "metadata": {
  "interpreter": {
   "hash": "bf2582caba1cca77f9eb96b5d927347162ae9347f5ce30bf39204f5b673577a3"
  },
  "kernelspec": {
   "display_name": "Python 3 (ipykernel)",
   "language": "python",
   "name": "python3"
  },
  "language_info": {
   "codemirror_mode": {
    "name": "ipython",
    "version": 3
   },
   "file_extension": ".py",
   "mimetype": "text/x-python",
   "name": "python",
   "nbconvert_exporter": "python",
   "pygments_lexer": "ipython3",
   "version": "3.9.7"
  }
 },
 "nbformat": 4,
 "nbformat_minor": 4
}
