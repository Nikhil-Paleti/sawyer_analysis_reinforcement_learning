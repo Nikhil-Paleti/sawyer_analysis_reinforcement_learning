{
 "cells": [
  {
   "cell_type": "code",
   "execution_count": 1,
   "id": "8697df56-4352-4f66-86a6-75810a179ce6",
   "metadata": {},
   "outputs": [],
   "source": [
    "import os\n",
    "from pathlib import Path"
   ]
  },
  {
   "cell_type": "code",
   "execution_count": 2,
   "id": "78bd39c2-c0a9-4029-a835-215c8f7d1e06",
   "metadata": {},
   "outputs": [],
   "source": [
    "from sandbox.agents.DDPG import DDPG\n",
    "from sandbox.utils.ddpg_utils import to_tensor\n",
    "from sandbox.utils.common_utils import load_config, set_logging\n",
    "from sandbox.env.robosuite_lift import GymWrapper"
   ]
  },
  {
   "cell_type": "code",
   "execution_count": 3,
   "id": "afed5e83-03d8-47e6-901c-913ae9776aee",
   "metadata": {},
   "outputs": [],
   "source": [
    "import robosuite as suite\n",
    "import gym\n",
    "import glfw\n",
    "import torch"
   ]
  },
  {
   "cell_type": "code",
   "execution_count": 4,
   "id": "489cccec-215c-4067-8ec7-688ad835becc",
   "metadata": {},
   "outputs": [],
   "source": [
    "def train(agent, env, num_epochs, num_episodes, episode_horizon, warmup, render):\n",
    "    \"\"\"\n",
    "    This function trains a ddpg agent given training parameters provided by config file.\n",
    "    \"\"\"\n",
    "    log.info(\"Setting up Agent and Environment.\")\n",
    "    obs = env.reset()\n",
    "    iteration = 0\n",
    "    log.info(\"Creating weights folders.\")\n",
    "    if not os.path.exists(\"weights\"):\n",
    "        os.mkdir(\"weights\")\n",
    "\n",
    "    log.info(\"Environment: {} \\n Agent: {}\\n\".format(config[\"environment\"][\"env_name\"], agent.name))\n",
    "\n",
    "\n",
    "    log.info(\"Commencing Warmup\")\n",
    "    while iteration <= warmup:\n",
    "        obs = env.reset()\n",
    "        agent.s_t = obs\n",
    "        done = False\n",
    "        while done==False:\n",
    "            action = agent.random_action()\n",
    "            obs, reward, done, info = env.step(action)\n",
    "            agent.observe(reward, obs, done)\n",
    "            iteration+=1\n",
    "\n",
    "    log.info(\"Commencing Training\")\n",
    "    for epoch in range(num_epochs):\n",
    "        epoch_reward = 0\n",
    "        for episode in range(num_episodes):\n",
    "            obs = env.reset()\n",
    "            agent.s_t = obs\n",
    "            done=False\n",
    "            steps = 0\n",
    "            while (done==False) & (steps<=episode_horizon): \n",
    "                action = agent.select_action(obs)     \n",
    "                obs, reward, done, info = env.step(action)\n",
    "                steps += 1\n",
    "                epoch_reward+=reward\n",
    "                agent.observe(reward, obs, done)\n",
    "                agent.update_parameters()\n",
    "        log.info(\"reward for epoch_{}: {}\".format(epoch,epoch_reward/num_episodes))\n",
    "    \n",
    "        model = \"./weights/model_{}.pt\".format(epoch+1)\n",
    "        torch.save(agent.actor.state_dict(), model)\n",
    "\n",
    "        model_c = \"./weights/model_actor_target_{}.pt\".format(epoch+1)\n",
    "        torch.save(agent.actor_target.state_dict(), model_c)\n",
    "\n",
    "        model_c = \"./weights/model_critic_{}.pt\".format(epoch+1)\n",
    "        torch.save(agent.critic.state_dict(), model_c)\n",
    "\n",
    "        model_c = \"./weights/model_critic_target_{}.pt\".format(epoch+1)\n",
    "        torch.save(agent.critic_target.state_dict(), model_c)\n",
    "\n",
    "    \n",
    "        if config[\"environment\"][\"env_source\"]==\"openai_gym\":\t\t\n",
    "            env_to_wrap = gym.make(config[\"environment\"][\"env_name\"])\n",
    "        else:\n",
    "            env_to_wrap = env"
   ]
  },
  {
   "cell_type": "code",
   "execution_count": 5,
   "id": "021e0bec-9835-4fc0-9438-d82a3b7582fb",
   "metadata": {},
   "outputs": [],
   "source": [
    "def render_rollout(env, epoch, play):\n",
    "    \"\"\"\n",
    "    This function renders a rollout given a certain set of model weights.\n",
    "    \"\"\"\n",
    "    if config[\"environment\"][\"env_source\"]==\"openai_gym\":\t\t\n",
    "        env_to_wrap = gym.make(config[\"environment\"][\"env_name\"])\n",
    "    else:\n",
    "        env_to_wrap = env\n",
    "\n",
    "    env = env_to_wrap\n",
    "\n",
    "\n",
    "    agent = DDPG(**config[\"ddpg_agent\"], load=True, epoch=epoch)\n",
    "\n",
    "    for i in range(play):\n",
    "        obs = env.reset()\n",
    "        done = False\n",
    "        steps = 0\n",
    "        while (done==False) & (steps <= config[\"training_params\"][\"episode_horizon\"]):\n",
    "            env.render()\n",
    "            action = agent.actor(to_tensor(obs).to(agent.actor.device)).to('cpu').detach().numpy()\n",
    "            obs, reward, done, info = env.step(action)\n",
    "    glfw.terminate()"
   ]
  },
  {
   "cell_type": "code",
   "execution_count": 6,
   "id": "bea42319-4d6a-4390-90bf-9515e90141bd",
   "metadata": {},
   "outputs": [
    {
     "name": "stdout",
     "output_type": "stream",
     "text": [
      "Creating window glfw\n"
     ]
    },
    {
     "name": "stderr",
     "output_type": "stream",
     "text": [
      "/home/nikhil/anaconda3/envs/torchenv/lib/python3.9/site-packages/gym/spaces/box.py:73: UserWarning: \u001b[33mWARN: Box bound precision lowered by casting to float32\u001b[0m\n",
      "  logger.warn(\n"
     ]
    }
   ],
   "source": [
    "# Getting path variables\n",
    "sandbox_path = str(Path(os.getcwd()).parent)\n",
    "\n",
    "logging_path = sandbox_path + \"/Project_files/sandbox/config/default_logger.conf\"\n",
    "config_path = sandbox_path + \"/Project_files/sandbox/config/lift_ddpg.yaml\"\n",
    "# Set logging\n",
    "log = set_logging(logging_path)\n",
    "\n",
    "# Read config\n",
    "config = load_config(config_path)\n",
    "# Train cartpole\n",
    "if config[\"environment\"][\"env_source\"]==\"openai_gym\":\n",
    "    env = gym.make(config[\"environment\"][\"env_name\"])\n",
    "elif config[\"environment\"][\"env_source\"]==\"stanford_robosuite\":\n",
    "    env = suite.make(**config[\"robosuite_env\"])\n",
    "    env = GymWrapper(env, keys=config[\"robosuite_keys\"])\n",
    "else:\n",
    "    log.info(\"Error setting the enviroment.\")\n",
    "    \n",
    "env.close()"
   ]
  },
  {
   "cell_type": "markdown",
   "id": "7d758212-1477-4609-b953-177f70f784a5",
   "metadata": {},
   "source": [
    "# Training"
   ]
  },
  {
   "cell_type": "code",
   "execution_count": 7,
   "id": "34bb7db1-4183-42ed-8c85-de8a0d3e97b0",
   "metadata": {},
   "outputs": [],
   "source": [
    "# create an agent\n",
    "# agent = DDPG(**config[\"ddpg_agent\"])\n",
    "\n",
    "# Train\n",
    "# train(agent, env, **config[\"training_params\"])"
   ]
  },
  {
   "cell_type": "markdown",
   "id": "dca268e0-0251-4a97-97d6-19ffe7ff794e",
   "metadata": {},
   "source": [
    "# Continue training by loading\n",
    "\n",
    "(NOT Recommended!!)"
   ]
  },
  {
   "cell_type": "code",
   "execution_count": 8,
   "id": "fabb5591-24ae-48e6-99f7-080348c1c900",
   "metadata": {},
   "outputs": [],
   "source": [
    "# epoch_to_load = 15\n",
    "# agent = DDPG(**config[\"ddpg_agent\"], load=True, epoch=epoch_to_load)\n",
    "# train(agent, env, **config[\"training_params\"]) "
   ]
  },
  {
   "cell_type": "markdown",
   "id": "6d58f624-3637-421e-b11c-0a3d17c6d81f",
   "metadata": {},
   "source": [
    "# Validating"
   ]
  },
  {
   "cell_type": "code",
   "execution_count": 9,
   "id": "65819dbb-8a64-4cee-a92d-c85844cb4ec0",
   "metadata": {},
   "outputs": [
    {
     "name": "stdout",
     "output_type": "stream",
     "text": [
      "Loading Agent and critic....\n",
      "Loaded the networks..\n"
     ]
    }
   ],
   "source": [
    "epoch_to_load = 180\n",
    "games = 3\n",
    "\n",
    "render_rollout(env, epoch_to_load, games)"
   ]
  }
 ],
 "metadata": {
  "kernelspec": {
   "display_name": "Python 3 (ipykernel)",
   "language": "python",
   "name": "python3"
  },
  "language_info": {
   "codemirror_mode": {
    "name": "ipython",
    "version": 3
   },
   "file_extension": ".py",
   "mimetype": "text/x-python",
   "name": "python",
   "nbconvert_exporter": "python",
   "pygments_lexer": "ipython3",
   "version": "3.9.7"
  }
 },
 "nbformat": 4,
 "nbformat_minor": 5
}
